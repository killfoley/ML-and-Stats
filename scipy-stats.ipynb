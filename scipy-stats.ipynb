{
 "cells": [
  {
   "cell_type": "markdown",
   "id": "99f92c6c-8bd4-4b1a-90f7-cd44a19df02a",
   "metadata": {},
   "source": [
    "### A Jupyter Notebook exploring the Scipy.Stats module for Python. [scipy.stats offfical](https://docs.scipy.org/doc/scipy/reference/stats.html)\n",
    "The Scipy.Stats module for Python offers a wide array of probability distributions, summary and frequency statistics, correlation functions and statistical tests, masked statistics, kernel density estimation, quasi-Monte Carlo functionality, and more. Since statistics is such a large discipline and covers many areas, there are other Python modules for areas such as machine learning, classification, regression, model selection and so on.<br> \n",
    "One particular area of interest for the purpose of this demonstration is statistical testing.\n",
    "#### ANOVA Testing\n",
    "One-way analysis of variance (ANOVA) testing is performed on 2 or more independent groups to determine if there are any statistically significant differences between the means of the groups. The test is generally performed on three or more groups with a t-test being performed when there are two groups, however for the purpose of this example a one-way ANOVA will be used. [Laerd Statistics](https://statistics.laerd.com/spss-tutorials/one-way-anova-using-spss-statistics.php)<br>\n",
    "#### Assumptions\n",
    "As part of the one-way ANOVA process, the data must be checked against 6 assumptions to ensure that the data can actually be analysed using a one-way ANOVA. Each of the 6 assumptions will be explored further in this notebook.\n",
    "* **Assumption 1** - The dependent variable should be measured at the interval or ratio level\n",
    "<br><br>\n",
    "* **Assumption 2** - \n"
   ]
  },
  {
   "cell_type": "code",
   "execution_count": 1,
   "id": "37f2d9a7-7b37-4312-8783-b84efc4854e1",
   "metadata": {},
   "outputs": [],
   "source": [
    "# import modules\n",
    "# numerical operations\n",
    "import numpy as np\n",
    "\n",
    "# general plotting\n",
    "import matplotlib.pyplot as plt\n",
    "\n",
    "# data frames\n",
    "import pandas as pd\n",
    "\n",
    "# statistical operations\n",
    "import scipy.stats as ss\n",
    "\n",
    "# statistical plots\n",
    "import seaborn as sns"
   ]
  },
  {
   "cell_type": "code",
   "execution_count": null,
   "id": "9cff401c-8281-4ff1-8663-6e6fed2f2653",
   "metadata": {},
   "outputs": [],
   "source": []
  },
  {
   "cell_type": "code",
   "execution_count": null,
   "id": "79d3dca6-fcc7-4f61-b306-d56bf8c9bacf",
   "metadata": {},
   "outputs": [],
   "source": []
  },
  {
   "cell_type": "code",
   "execution_count": null,
   "id": "59d702a2-9069-4ea8-9eb2-402bcdda5fba",
   "metadata": {},
   "outputs": [],
   "source": []
  },
  {
   "cell_type": "code",
   "execution_count": null,
   "id": "d0a27eba-4d6a-4a0c-879a-15cb5d74df49",
   "metadata": {},
   "outputs": [],
   "source": []
  },
  {
   "cell_type": "code",
   "execution_count": null,
   "id": "9e5c7e4d-b494-470c-b00b-1a3b623e0e73",
   "metadata": {},
   "outputs": [],
   "source": []
  },
  {
   "cell_type": "code",
   "execution_count": null,
   "id": "156b9013-dce2-4225-84e0-384cb6dc7142",
   "metadata": {},
   "outputs": [],
   "source": []
  },
  {
   "cell_type": "code",
   "execution_count": null,
   "id": "6492445c-39ca-4070-8d49-62e4ee129c82",
   "metadata": {},
   "outputs": [],
   "source": []
  }
 ],
 "metadata": {
  "kernelspec": {
   "display_name": "Python 3 (ipykernel)",
   "language": "python",
   "name": "python3"
  },
  "language_info": {
   "codemirror_mode": {
    "name": "ipython",
    "version": 3
   },
   "file_extension": ".py",
   "mimetype": "text/x-python",
   "name": "python",
   "nbconvert_exporter": "python",
   "pygments_lexer": "ipython3",
   "version": "3.8.5"
  }
 },
 "nbformat": 4,
 "nbformat_minor": 5
}
