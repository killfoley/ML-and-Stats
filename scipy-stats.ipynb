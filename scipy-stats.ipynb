{
 "cells": [
  {
   "cell_type": "markdown",
   "id": "99f92c6c-8bd4-4b1a-90f7-cd44a19df02a",
   "metadata": {},
   "source": [
    "### A Jupyter Notebook exploring the Scipy.Stats module for Python. [scipy.stats offfical](https://docs.scipy.org/doc/scipy/reference/stats.html)\n",
    "The Scipy.Stats module for Python offers a wide array of probability distributions, summary and frequency statistics, correlation functions and statistical tests, masked statistics, kernel density estimation, quasi-Monte Carlo functionality, and more. Since statistics is such a large discipline and covers many areas, there are other Python modules for areas such as machine learning, classification, regression, model selection and so on.<br> \n",
    "One particular area of interest for the purpose of this demonstration is statistical testing.\n",
    "#### ANOVA Testing\n",
    "One-way analysis of variance (ANOVA) testing is performed on 2 or more independent groups to determine if there are any statistically significant differences between the means of the groups. The test is generally performed on three or more groups with a t-test being performed when there are two groups, however for the purpose of this example a one-way ANOVA will be used. [Laerd Statistics](https://statistics.laerd.com/spss-tutorials/one-way-anova-using-spss-statistics.php)<br>\n",
    "#### Assumptions\n",
    "As part of the one-way ANOVA process, the data must be checked against 6 assumptions to ensure that the data can actually be analysed using a one-way ANOVA. Each of the 6 assumptions will be explored further in this notebook.\n",
    "***\n",
    "Import Python modules"
   ]
  },
  {
   "cell_type": "code",
   "execution_count": 1,
   "id": "37f2d9a7-7b37-4312-8783-b84efc4854e1",
   "metadata": {},
   "outputs": [],
   "source": [
    "# import modules\n",
    "# numerical operations\n",
    "import numpy as np\n",
    "\n",
    "# general plotting\n",
    "import matplotlib.pyplot as plt\n",
    "\n",
    "# data frames\n",
    "import pandas as pd\n",
    "\n",
    "# statistical operations\n",
    "import scipy.stats as ss\n",
    "\n",
    "# statistical plots\n",
    "import seaborn as sns"
   ]
  },
  {
   "cell_type": "markdown",
   "id": "d93f516f",
   "metadata": {},
   "source": [
    "#### Example One-Way ANOVA: Golf Ball driving distance dataset\n",
    "***\n",
    "A golf ball manufacturer is testing to see that there is no significant change in driving distance between the current golf ball design and the new golf ball design.\n",
    "* **Null Hypothesis** (desired outcome) - The change in golf ball design has no effect on driving distance (mean of the current and new ball are almost same)\n",
    "<br><br>\n",
    "* **Alternative Hypothesis** - The change in golf ball design has a significant effect on driving distance (mean of the current and new ball are significantly different)."
   ]
  },
  {
   "cell_type": "code",
   "execution_count": 2,
   "id": "79d3dca6-fcc7-4f61-b306-d56bf8c9bacf",
   "metadata": {},
   "outputs": [
    {
     "data": {
      "text/html": [
       "<div>\n",
       "<style scoped>\n",
       "    .dataframe tbody tr th:only-of-type {\n",
       "        vertical-align: middle;\n",
       "    }\n",
       "\n",
       "    .dataframe tbody tr th {\n",
       "        vertical-align: top;\n",
       "    }\n",
       "\n",
       "    .dataframe thead th {\n",
       "        text-align: right;\n",
       "    }\n",
       "</style>\n",
       "<table border=\"1\" class=\"dataframe\">\n",
       "  <thead>\n",
       "    <tr style=\"text-align: right;\">\n",
       "      <th></th>\n",
       "      <th>ball</th>\n",
       "      <th>distance</th>\n",
       "    </tr>\n",
       "  </thead>\n",
       "  <tbody>\n",
       "    <tr>\n",
       "      <th>0</th>\n",
       "      <td>current</td>\n",
       "      <td>264</td>\n",
       "    </tr>\n",
       "    <tr>\n",
       "      <th>1</th>\n",
       "      <td>current</td>\n",
       "      <td>261</td>\n",
       "    </tr>\n",
       "    <tr>\n",
       "      <th>2</th>\n",
       "      <td>current</td>\n",
       "      <td>267</td>\n",
       "    </tr>\n",
       "    <tr>\n",
       "      <th>3</th>\n",
       "      <td>current</td>\n",
       "      <td>272</td>\n",
       "    </tr>\n",
       "    <tr>\n",
       "      <th>4</th>\n",
       "      <td>current</td>\n",
       "      <td>258</td>\n",
       "    </tr>\n",
       "    <tr>\n",
       "      <th>...</th>\n",
       "      <td>...</td>\n",
       "      <td>...</td>\n",
       "    </tr>\n",
       "    <tr>\n",
       "      <th>75</th>\n",
       "      <td>new</td>\n",
       "      <td>263</td>\n",
       "    </tr>\n",
       "    <tr>\n",
       "      <th>76</th>\n",
       "      <td>new</td>\n",
       "      <td>261</td>\n",
       "    </tr>\n",
       "    <tr>\n",
       "      <th>77</th>\n",
       "      <td>new</td>\n",
       "      <td>255</td>\n",
       "    </tr>\n",
       "    <tr>\n",
       "      <th>78</th>\n",
       "      <td>new</td>\n",
       "      <td>263</td>\n",
       "    </tr>\n",
       "    <tr>\n",
       "      <th>79</th>\n",
       "      <td>new</td>\n",
       "      <td>279</td>\n",
       "    </tr>\n",
       "  </tbody>\n",
       "</table>\n",
       "<p>80 rows × 2 columns</p>\n",
       "</div>"
      ],
      "text/plain": [
       "       ball  distance\n",
       "0   current       264\n",
       "1   current       261\n",
       "2   current       267\n",
       "3   current       272\n",
       "4   current       258\n",
       "..      ...       ...\n",
       "75      new       263\n",
       "76      new       261\n",
       "77      new       255\n",
       "78      new       263\n",
       "79      new       279\n",
       "\n",
       "[80 rows x 2 columns]"
      ]
     },
     "execution_count": 2,
     "metadata": {},
     "output_type": "execute_result"
    }
   ],
   "source": [
    "# read in the dataset\n",
    "df = pd.read_csv('https://raw.githubusercontent.com/killfoley/ML-and-Stats/main/data/golf_ball.csv')\n",
    "df"
   ]
  },
  {
   "cell_type": "markdown",
   "id": "dfd44835",
   "metadata": {},
   "source": [
    "<br>\n",
    "\n",
    "#### Assumption 1 - The dependent variable should be measured at the interval or ratio level  \n",
    "(in this case metres)\n",
    "***"
   ]
  },
  {
   "cell_type": "code",
   "execution_count": 3,
   "id": "d0a27eba-4d6a-4a0c-879a-15cb5d74df49",
   "metadata": {},
   "outputs": [
    {
     "data": {
      "text/plain": [
       "0     264\n",
       "1     261\n",
       "2     267\n",
       "3     272\n",
       "4     258\n",
       "     ... \n",
       "75    263\n",
       "76    261\n",
       "77    255\n",
       "78    263\n",
       "79    279\n",
       "Name: distance, Length: 80, dtype: int64"
      ]
     },
     "execution_count": 3,
     "metadata": {},
     "output_type": "execute_result"
    }
   ],
   "source": [
    "# dependent variable\n",
    "v_dep = df['distance']\n",
    "v_dep"
   ]
  },
  {
   "cell_type": "code",
   "execution_count": 4,
   "id": "9e5c7e4d-b494-470c-b00b-1a3b623e0e73",
   "metadata": {},
   "outputs": [
    {
     "data": {
      "text/plain": [
       "count     80.000000\n",
       "mean     268.887500\n",
       "std        9.387568\n",
       "min      250.000000\n",
       "25%      262.000000\n",
       "50%      267.500000\n",
       "75%      275.250000\n",
       "max      289.000000\n",
       "Name: distance, dtype: float64"
      ]
     },
     "execution_count": 4,
     "metadata": {},
     "output_type": "execute_result"
    }
   ],
   "source": [
    "# describe the data\n",
    "v_dep.describe()"
   ]
  },
  {
   "cell_type": "markdown",
   "id": "7659a1d2",
   "metadata": {},
   "source": [
    "<br>\n",
    "\n",
    "#### Assumption 2 - The independent variable should consist of two or more categorical, independent groups.\n",
    "***"
   ]
  },
  {
   "cell_type": "code",
   "execution_count": 5,
   "id": "6492445c-39ca-4070-8d49-62e4ee129c82",
   "metadata": {},
   "outputs": [
    {
     "data": {
      "text/plain": [
       "0     current\n",
       "1     current\n",
       "2     current\n",
       "3     current\n",
       "4     current\n",
       "       ...   \n",
       "75        new\n",
       "76        new\n",
       "77        new\n",
       "78        new\n",
       "79        new\n",
       "Name: ball, Length: 80, dtype: object"
      ]
     },
     "execution_count": 5,
     "metadata": {},
     "output_type": "execute_result"
    }
   ],
   "source": [
    "# independent variabl\n",
    "v_indep = df['ball']\n",
    "v_indep"
   ]
  },
  {
   "cell_type": "markdown",
   "id": "51699b1d",
   "metadata": {},
   "source": [
    "Note: There are two independent categories 'current' and 'new'"
   ]
  },
  {
   "cell_type": "code",
   "execution_count": null,
   "id": "602cd3a8",
   "metadata": {},
   "outputs": [],
   "source": []
  },
  {
   "cell_type": "code",
   "execution_count": null,
   "id": "0849d3e7",
   "metadata": {},
   "outputs": [],
   "source": []
  },
  {
   "cell_type": "code",
   "execution_count": null,
   "id": "a6bef601",
   "metadata": {},
   "outputs": [],
   "source": []
  },
  {
   "cell_type": "code",
   "execution_count": null,
   "id": "554cf62e",
   "metadata": {},
   "outputs": [],
   "source": []
  },
  {
   "cell_type": "code",
   "execution_count": null,
   "id": "d537dac6",
   "metadata": {},
   "outputs": [],
   "source": []
  },
  {
   "cell_type": "code",
   "execution_count": null,
   "id": "1cf2e38e",
   "metadata": {},
   "outputs": [],
   "source": []
  },
  {
   "cell_type": "code",
   "execution_count": null,
   "id": "9f6e7eda",
   "metadata": {},
   "outputs": [],
   "source": []
  },
  {
   "cell_type": "code",
   "execution_count": null,
   "id": "6194b200",
   "metadata": {},
   "outputs": [],
   "source": []
  },
  {
   "cell_type": "code",
   "execution_count": null,
   "id": "e52f43b2",
   "metadata": {},
   "outputs": [],
   "source": []
  },
  {
   "cell_type": "code",
   "execution_count": null,
   "id": "278afa7f",
   "metadata": {},
   "outputs": [],
   "source": []
  },
  {
   "cell_type": "code",
   "execution_count": null,
   "id": "4ac1acee",
   "metadata": {},
   "outputs": [],
   "source": []
  }
 ],
 "metadata": {
  "kernelspec": {
   "display_name": "Python 3 (ipykernel)",
   "language": "python",
   "name": "python3"
  },
  "language_info": {
   "codemirror_mode": {
    "name": "ipython",
    "version": 3
   },
   "file_extension": ".py",
   "mimetype": "text/x-python",
   "name": "python",
   "nbconvert_exporter": "python",
   "pygments_lexer": "ipython3",
   "version": "3.8.5"
  }
 },
 "nbformat": 4,
 "nbformat_minor": 5
}
