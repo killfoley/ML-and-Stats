{
 "cells": [
  {
   "cell_type": "markdown",
   "id": "99f92c6c-8bd4-4b1a-90f7-cd44a19df02a",
   "metadata": {},
   "source": [
    "### A Jupyter Notebook exploring the Scipy.Stats module for Python. [scipy.stats offfical](https://docs.scipy.org/doc/scipy/reference/stats.html)\n",
    "The Scipy.Stats module for Python offers a wide array of probability distributions, summary and frequency statistics, correlation functions and statistical tests, masked statistics, kernel density estimation, quasi-Monte Carlo functionality, and more. Since statistics is such a large discipline and covers many areas, there are other Python modules for areas such as machine learning, classification, regression, model selection and so on.<br> \n",
    "One particular area of interest for the purpose of this demonstration is statistical testing.\n",
    "#### ANOVA Testing\n",
    "One-way analysis of variance (ANOVA) testing is performed on 2 or more independent groups to determine if there are any statistically significant differences between the means of the groups. The test is generally performed on three or more groups with a t-test being performed when there are two groups, however for the purpose of this example a one-way ANOVA will be used. [Laerd Statistics](https://statistics.laerd.com/spss-tutorials/one-way-anova-using-spss-statistics.php)<br>\n",
    "#### Assumptions\n",
    "As part of the one-way ANOVA process, the data must be checked against 6 assumptions to ensure that the data can actually be analysed using a one-way ANOVA. Each of the 6 assumptions will be explored further in this notebook.\n",
    "***\n",
    "Import Python modules"
   ]
  },
  {
   "cell_type": "code",
   "execution_count": 1,
   "id": "37f2d9a7-7b37-4312-8783-b84efc4854e1",
   "metadata": {},
   "outputs": [],
   "source": [
    "# import modules\n",
    "# numerical operations\n",
    "import numpy as np\n",
    "\n",
    "# general plotting\n",
    "import matplotlib.pyplot as plt\n",
    "\n",
    "# data frames\n",
    "import pandas as pd\n",
    "\n",
    "# statistical operations\n",
    "import scipy.stats as ss\n",
    "\n",
    "# statistical plots\n",
    "import seaborn as sns"
   ]
  },
  {
   "cell_type": "markdown",
   "id": "d93f516f",
   "metadata": {},
   "source": [
    "#### Example One-Way ANOVA: Golf Ball driving distance dataset\n",
    "***\n",
    "A golf ball manufacturer is testing to see that there is no significant change in driving distance between the current golf ball design and the new golf ball design.\n",
    "* **Null Hypothesis** (desired outcome) - The change in golf ball design has no effect on driving distance (mean of the current and new ball are almost same)\n",
    "<br><br>\n",
    "* **Alternative Hypothesis** - The change in golf ball design has a significant effect on driving distance (mean of the current and new ball are significantly different)."
   ]
  },
  {
   "cell_type": "code",
   "execution_count": 2,
   "id": "79d3dca6-fcc7-4f61-b306-d56bf8c9bacf",
   "metadata": {},
   "outputs": [
    {
     "data": {
      "text/html": [
       "<div>\n",
       "<style scoped>\n",
       "    .dataframe tbody tr th:only-of-type {\n",
       "        vertical-align: middle;\n",
       "    }\n",
       "\n",
       "    .dataframe tbody tr th {\n",
       "        vertical-align: top;\n",
       "    }\n",
       "\n",
       "    .dataframe thead th {\n",
       "        text-align: right;\n",
       "    }\n",
       "</style>\n",
       "<table border=\"1\" class=\"dataframe\">\n",
       "  <thead>\n",
       "    <tr style=\"text-align: right;\">\n",
       "      <th></th>\n",
       "      <th>ball</th>\n",
       "      <th>distance</th>\n",
       "    </tr>\n",
       "  </thead>\n",
       "  <tbody>\n",
       "    <tr>\n",
       "      <th>0</th>\n",
       "      <td>current</td>\n",
       "      <td>264</td>\n",
       "    </tr>\n",
       "    <tr>\n",
       "      <th>1</th>\n",
       "      <td>current</td>\n",
       "      <td>261</td>\n",
       "    </tr>\n",
       "    <tr>\n",
       "      <th>2</th>\n",
       "      <td>current</td>\n",
       "      <td>267</td>\n",
       "    </tr>\n",
       "    <tr>\n",
       "      <th>3</th>\n",
       "      <td>current</td>\n",
       "      <td>272</td>\n",
       "    </tr>\n",
       "    <tr>\n",
       "      <th>4</th>\n",
       "      <td>current</td>\n",
       "      <td>258</td>\n",
       "    </tr>\n",
       "    <tr>\n",
       "      <th>...</th>\n",
       "      <td>...</td>\n",
       "      <td>...</td>\n",
       "    </tr>\n",
       "    <tr>\n",
       "      <th>115</th>\n",
       "      <td>prototype</td>\n",
       "      <td>255</td>\n",
       "    </tr>\n",
       "    <tr>\n",
       "      <th>116</th>\n",
       "      <td>prototype</td>\n",
       "      <td>268</td>\n",
       "    </tr>\n",
       "    <tr>\n",
       "      <th>117</th>\n",
       "      <td>prototype</td>\n",
       "      <td>260</td>\n",
       "    </tr>\n",
       "    <tr>\n",
       "      <th>118</th>\n",
       "      <td>prototype</td>\n",
       "      <td>258</td>\n",
       "    </tr>\n",
       "    <tr>\n",
       "      <th>119</th>\n",
       "      <td>prototype</td>\n",
       "      <td>274</td>\n",
       "    </tr>\n",
       "  </tbody>\n",
       "</table>\n",
       "<p>120 rows × 2 columns</p>\n",
       "</div>"
      ],
      "text/plain": [
       "          ball  distance\n",
       "0      current       264\n",
       "1      current       261\n",
       "2      current       267\n",
       "3      current       272\n",
       "4      current       258\n",
       "..         ...       ...\n",
       "115  prototype       255\n",
       "116  prototype       268\n",
       "117  prototype       260\n",
       "118  prototype       258\n",
       "119  prototype       274\n",
       "\n",
       "[120 rows x 2 columns]"
      ]
     },
     "execution_count": 2,
     "metadata": {},
     "output_type": "execute_result"
    }
   ],
   "source": [
    "# read in the dataset\n",
    "df = pd.read_csv('https://raw.githubusercontent.com/killfoley/ML-and-Stats/main/data/golf_ball.csv')\n",
    "df"
   ]
  },
  {
   "cell_type": "markdown",
   "id": "dfd44835",
   "metadata": {},
   "source": [
    "<br>\n",
    "\n",
    "#### Assumption 1 - The dependent variable should be measured at the interval or ratio level  \n",
    "(in this case metres probably actually yards)\n",
    "***"
   ]
  },
  {
   "cell_type": "code",
   "execution_count": 3,
   "id": "d0a27eba-4d6a-4a0c-879a-15cb5d74df49",
   "metadata": {},
   "outputs": [
    {
     "data": {
      "text/plain": [
       "0      264\n",
       "1      261\n",
       "2      267\n",
       "3      272\n",
       "4      258\n",
       "      ... \n",
       "115    255\n",
       "116    268\n",
       "117    260\n",
       "118    258\n",
       "119    274\n",
       "Name: distance, Length: 120, dtype: int64"
      ]
     },
     "execution_count": 3,
     "metadata": {},
     "output_type": "execute_result"
    }
   ],
   "source": [
    "# dependent variable\n",
    "v_dep = df['distance']\n",
    "v_dep"
   ]
  },
  {
   "cell_type": "code",
   "execution_count": 4,
   "id": "9e5c7e4d-b494-470c-b00b-1a3b623e0e73",
   "metadata": {},
   "outputs": [
    {
     "data": {
      "text/plain": [
       "count    120.00000\n",
       "mean     269.77500\n",
       "std        9.45619\n",
       "min      250.00000\n",
       "25%      263.00000\n",
       "50%      269.00000\n",
       "75%      275.25000\n",
       "max      294.00000\n",
       "Name: distance, dtype: float64"
      ]
     },
     "execution_count": 4,
     "metadata": {},
     "output_type": "execute_result"
    }
   ],
   "source": [
    "# describe the data\n",
    "v_dep.describe()"
   ]
  },
  {
   "cell_type": "markdown",
   "id": "7659a1d2",
   "metadata": {},
   "source": [
    "<br>\n",
    "\n",
    "#### Assumption 2 - The independent variable should consist of two or more categorical, independent groups.\n",
    "***"
   ]
  },
  {
   "cell_type": "code",
   "execution_count": 5,
   "id": "6492445c-39ca-4070-8d49-62e4ee129c82",
   "metadata": {},
   "outputs": [
    {
     "data": {
      "text/plain": [
       "0        current\n",
       "1        current\n",
       "2        current\n",
       "3        current\n",
       "4        current\n",
       "         ...    \n",
       "115    prototype\n",
       "116    prototype\n",
       "117    prototype\n",
       "118    prototype\n",
       "119    prototype\n",
       "Name: ball, Length: 120, dtype: object"
      ]
     },
     "execution_count": 5,
     "metadata": {},
     "output_type": "execute_result"
    }
   ],
   "source": [
    "# independent variabl\n",
    "v_indep = df['ball']\n",
    "v_indep"
   ]
  },
  {
   "cell_type": "markdown",
   "id": "51699b1d",
   "metadata": {},
   "source": [
    "Note: There are three independent categories 'current', 'new', and 'prototype'"
   ]
  },
  {
   "cell_type": "markdown",
   "id": "9f80de42",
   "metadata": {},
   "source": [
    "<br>\n",
    "\n",
    "**Assumption 3** - There should be independence of observations, which means that there is no relationship between the observations in each group or between the groups themselves.<br>\n",
    "<br>\n",
    "This cannot really be shown using the data, it is more of an experiment design issue. Considering the nature of this study it is safe to say that the two different types of golf ball are totally independent of each other so assumption 3 is satisfied in this case.\n",
    "***\n",
    "<br>\n",
    "\n",
    "**Assumption 4** - There should be no significant outliers.\n",
    "***\n",
    "Data visualisation is a very effective way to identify any outliers [Medium: detecting outliers](https://medium.com/analytics-vidhya/outliers-in-data-and-ways-to-detect-them-1c3a5f2c6b1e). Outliers are single data points that do not follow the general trend of the rest of the data.  For this a box plot will be used from the Seaborn package [Seaborn: Boxplot](https://seaborn.pydata.org/generated/seaborn.boxplot.html).  \n"
   ]
  },
  {
   "cell_type": "code",
   "execution_count": 6,
   "id": "0849d3e7",
   "metadata": {},
   "outputs": [
    {
     "data": {
      "text/plain": [
       "<AxesSubplot:xlabel='distance', ylabel='ball'>"
      ]
     },
     "execution_count": 6,
     "metadata": {},
     "output_type": "execute_result"
    },
    {
     "data": {
      "image/png": "[encoded data removed]",
      "text/plain": [
       "<Figure size 432x288 with 1 Axes>"
      ]
     },
     "metadata": {
      "needs_background": "light"
     },
     "output_type": "display_data"
    }
   ],
   "source": [
    "# Boxplot of variables\n",
    "sns.boxplot(x=v_dep, y=v_indep)"
   ]
  },
  {
   "cell_type": "markdown",
   "id": "2b18c3e4",
   "metadata": {},
   "source": [
    "There appear to be no outliers in this dataset.\n",
    "***"
   ]
  },
  {
   "cell_type": "markdown",
   "id": "a01163b1",
   "metadata": {},
   "source": [
    "<br>\n",
    "\n",
    "**Assumption 5** - The dependent variable should be approximately normally distributed for each category of the independent variable.\n",
    "Testing for normality is performed using the Shapiro-Wilk test of normality. \n",
    "[Scipy.Stats](https://docs.scipy.org/doc/scipy/reference/generated/scipy.stats.shapiro.html)\n",
    "***"
   ]
  },
  {
   "cell_type": "code",
   "execution_count": 7,
   "id": "d537dac6",
   "metadata": {
    "scrolled": true
   },
   "outputs": [
    {
     "data": {
      "text/plain": [
       "0     264\n",
       "1     261\n",
       "2     267\n",
       "3     272\n",
       "4     258\n",
       "5     283\n",
       "6     258\n",
       "7     266\n",
       "8     259\n",
       "9     270\n",
       "10    263\n",
       "11    264\n",
       "12    284\n",
       "13    263\n",
       "14    260\n",
       "15    283\n",
       "16    255\n",
       "17    272\n",
       "18    266\n",
       "19    268\n",
       "20    270\n",
       "21    287\n",
       "22    289\n",
       "23    280\n",
       "24    272\n",
       "25    275\n",
       "26    265\n",
       "27    260\n",
       "28    278\n",
       "29    275\n",
       "30    281\n",
       "31    274\n",
       "32    273\n",
       "33    263\n",
       "34    275\n",
       "35    267\n",
       "36    279\n",
       "37    274\n",
       "38    276\n",
       "39    262\n",
       "Name: distance, dtype: int64"
      ]
     },
     "execution_count": 7,
     "metadata": {},
     "output_type": "execute_result"
    }
   ],
   "source": [
    "# Get the distance values for the current golf ball using pandas query\n",
    "x_current = df.query('ball==\"current\"')['distance']\n",
    "x_current"
   ]
  },
  {
   "cell_type": "code",
   "execution_count": 8,
   "id": "1cf2e38e",
   "metadata": {
    "scrolled": true
   },
   "outputs": [
    {
     "data": {
      "text/plain": [
       "40    277\n",
       "41    269\n",
       "42    263\n",
       "43    266\n",
       "44    262\n",
       "45    251\n",
       "46    262\n",
       "47    289\n",
       "48    286\n",
       "49    264\n",
       "50    274\n",
       "51    266\n",
       "52    262\n",
       "53    271\n",
       "54    260\n",
       "55    281\n",
       "56    250\n",
       "57    263\n",
       "58    278\n",
       "59    264\n",
       "60    272\n",
       "61    259\n",
       "62    264\n",
       "63    280\n",
       "64    274\n",
       "65    281\n",
       "66    276\n",
       "67    269\n",
       "68    268\n",
       "69    262\n",
       "70    283\n",
       "71    250\n",
       "72    253\n",
       "73    260\n",
       "74    270\n",
       "75    263\n",
       "76    261\n",
       "77    255\n",
       "78    263\n",
       "79    279\n",
       "Name: distance, dtype: int64"
      ]
     },
     "execution_count": 8,
     "metadata": {},
     "output_type": "execute_result"
    }
   ],
   "source": [
    "# get the distance values for the new ball\n",
    "x_new = df.query('ball==\"new\"')['distance']\n",
    "x_new"
   ]
  },
  {
   "cell_type": "code",
   "execution_count": 9,
   "id": "9f6e7eda",
   "metadata": {},
   "outputs": [
    {
     "data": {
      "text/plain": [
       "ShapiroResult(statistic=0.9707045555114746, pvalue=0.37878310680389404)"
      ]
     },
     "execution_count": 9,
     "metadata": {},
     "output_type": "execute_result"
    }
   ],
   "source": [
    "# Perform shapiro test on both sets of data\n",
    "shapiro_test_current = ss.shapiro(x_current)\n",
    "shapiro_test_current"
   ]
  },
  {
   "cell_type": "code",
   "execution_count": 10,
   "id": "6194b200",
   "metadata": {},
   "outputs": [
    {
     "data": {
      "text/plain": [
       "ShapiroResult(statistic=0.9678265452384949, pvalue=0.3064688742160797)"
      ]
     },
     "execution_count": 10,
     "metadata": {},
     "output_type": "execute_result"
    }
   ],
   "source": [
    "# Peform for new golf ball\n",
    "shapiro_test_new = ss.shapiro(x_new)\n",
    "shapiro_test_new"
   ]
  },
  {
   "cell_type": "markdown",
   "id": "37ab0db2",
   "metadata": {},
   "source": [
    "Both datasets have a high probability of being normally distributed with a p values significantly > 0.05\n",
    "***"
   ]
  },
  {
   "cell_type": "markdown",
   "id": "577cbb4e",
   "metadata": {},
   "source": [
    "**Data Visualisation Plot**\n",
    "\n",
    "Use a distribution plot from Seaborn. Display each of the datasets with the kernel density estimation displayed. This is a nice way of visualising the probability distribution of variables together."
   ]
  },
  {
   "cell_type": "code",
   "execution_count": 11,
   "id": "4ac1acee",
   "metadata": {},
   "outputs": [
    {
     "data": {
      "text/plain": [
       "<seaborn.axisgrid.FacetGrid at 0x7fbf00c5e670>"
      ]
     },
     "execution_count": 11,
     "metadata": {},
     "output_type": "execute_result"
    },
    {
     "data": {
      "image/png": "[encoded data removed]",
      "text/plain": [
       "<Figure size 444.125x360 with 1 Axes>"
      ]
     },
     "metadata": {
      "needs_background": "light"
     },
     "output_type": "display_data"
    }
   ],
   "source": [
    "# KDEs of the two types of golf ball.\n",
    "sns.displot(x=v_dep, hue=v_indep, kind=\"kde\")"
   ]
  },
  {
   "cell_type": "code",
   "execution_count": null,
   "id": "892cb9b3",
   "metadata": {},
   "outputs": [],
   "source": []
  },
  {
   "cell_type": "code",
   "execution_count": null,
   "id": "d7638c8a",
   "metadata": {},
   "outputs": [],
   "source": []
  },
  {
   "cell_type": "code",
   "execution_count": null,
   "id": "1c56d949",
   "metadata": {},
   "outputs": [],
   "source": []
  },
  {
   "cell_type": "code",
   "execution_count": null,
   "id": "f2748232",
   "metadata": {},
   "outputs": [],
   "source": []
  },
  {
   "cell_type": "code",
   "execution_count": null,
   "id": "0e3a1f15",
   "metadata": {},
   "outputs": [],
   "source": []
  },
  {
   "cell_type": "code",
   "execution_count": null,
   "id": "69272690",
   "metadata": {},
   "outputs": [],
   "source": []
  }
 ],
 "metadata": {
  "kernelspec": {
   "display_name": "Python 3 (ipykernel)",
   "language": "python",
   "name": "python3"
  },
  "language_info": {
   "codemirror_mode": {
    "name": "ipython",
    "version": 3
   },
   "file_extension": ".py",
   "mimetype": "text/x-python",
   "name": "python",
   "nbconvert_exporter": "python",
   "pygments_lexer": "ipython3",
   "version": "3.8.5"
  }
 },
 "nbformat": 4,
 "nbformat_minor": 5
}
